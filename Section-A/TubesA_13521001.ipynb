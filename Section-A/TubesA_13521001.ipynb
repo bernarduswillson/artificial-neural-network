{
 "cells": [
  {
   "cell_type": "code",
   "execution_count": 1,
   "metadata": {},
   "outputs": [],
   "source": [
    "import json\n",
    "import numpy as np"
   ]
  },
  {
   "cell_type": "code",
   "execution_count": 2,
   "metadata": {},
   "outputs": [
    {
     "name": "stdout",
     "output_type": "stream",
     "text": [
      "Layer:  0\n",
      "Number of Neurons:  4\n",
      "Activation Function:  relu\n",
      "Weight:  [[0.1, 0.2, 0.3, -1.2], [-0.5, 0.6, 0.7, 0.5], [0.9, 1.0, -1.1, -1.0], [1.3, 1.4, 1.5, 0.1]]\n",
      "Sum: h 0  =  2.09\n",
      "Sum: h 1  =  1.22\n",
      "Sum: h 2  =  0.2500000000000002\n",
      "Sum: h 3  =  0.0\n",
      " \n",
      "Layer:  1\n",
      "Number of Neurons:  3\n",
      "Activation Function:  relu\n",
      "Weight:  [[0.1, 0.1, 0.3], [-0.4, 0.5, 0.6], [0.7, 0.4, -0.9], [0.2, 0.3, 0.4], [-0.1, 0.2, 0.1]]\n",
      "Sum: h 0  =  0.16800000000000004\n",
      "Sum: h 1  =  1.7080000000000002\n",
      "Sum: h 2  =  0.5559999999999998\n",
      " \n",
      "Layer:  2\n",
      "Number of Neurons:  2\n",
      "Activation Function:  relu\n",
      "Weight:  [[0.1, 0.2], [-0.3, 0.4], [0.6, 0.1], [0.1, -0.4]]\n",
      "Sum: h 0  =  1.1300000000000003\n",
      "Sum: h 1  =  0.21560000000000012\n",
      " \n",
      "Layer:  3\n",
      "Number of Neurons:  1\n",
      "Activation Function:  sigmoid\n",
      "Weight:  [[0.1], [-0.2], [0.3]]\n",
      "Sum: h 0  =  0.4846748017763877\n",
      " \n"
     ]
    }
   ],
   "source": [
    "model = str(input(\"Enter the model file in .json format: \"))\n",
    "model = json.load(open(f\"models/{model}\", \"r\"))\n",
    "\n",
    "layers = model[\"case\"][\"model\"]\n",
    "weights = model[\"case\"][\"weights\"]\n",
    "inputArray = model[\"case\"][\"input\"]\n",
    "inputArray = np.insert(inputArray, 0, 1)\n",
    "\n",
    "# print(\"Model: \", layers)\n",
    "# print(\"Weights: \", weights)\n",
    "# print(\"Input: \", inputArray)\n",
    "\n",
    "for i in range(len(layers[\"layers\"])):\n",
    "    layer = layers[\"layers\"][i]\n",
    "    numberOfNeurons = layer[\"number_of_neurons\"]\n",
    "    activationFunction = layer[\"activation_function\"]\n",
    "\n",
    "    if i == 0:\n",
    "        weight = weights[0]\n",
    "        input_data = inputArray\n",
    "    else:\n",
    "        weight = weights[i]\n",
    "        input_data = sum\n",
    "        # add bias\n",
    "        input_data = np.insert(input_data, 0, 1)\n",
    "\n",
    "    print(\"Layer: \", i)\n",
    "    print(\"Number of Neurons: \", numberOfNeurons)\n",
    "    print(\"Activation Function: \", activationFunction)\n",
    "    print(\"Weight: \", weight)\n",
    "\n",
    "    sum = np.zeros(numberOfNeurons)\n",
    "    for j in range(numberOfNeurons):\n",
    "        for k in range(len(input_data)):\n",
    "            sum[j] += input_data[k] * weight[k][j]\n",
    "\n",
    "        if activationFunction == 'relu':\n",
    "            sum[j] = max(0, sum[j])\n",
    "        elif activationFunction == 'sigmoid':\n",
    "            sum[j] = 1 / (1 + np.exp(-sum[j]))\n",
    "        elif activationFunction == 'linear':\n",
    "            sum[j] = sum[j]\n",
    "        elif activationFunction == 'softmax':\n",
    "            sum[j] = np.exp(sum[j]) / np.sum(np.exp(sum[j]))\n",
    "        \n",
    "        print(\"Sum: h\", j, \" = \", sum[j])\n",
    "\n",
    "    print(\" \")\n",
    "\n"
   ]
  }
 ],
 "metadata": {
  "kernelspec": {
   "display_name": "Python 3",
   "language": "python",
   "name": "python3"
  },
  "language_info": {
   "codemirror_mode": {
    "name": "ipython",
    "version": 3
   },
   "file_extension": ".py",
   "mimetype": "text/x-python",
   "name": "python",
   "nbconvert_exporter": "python",
   "pygments_lexer": "ipython3",
   "version": "3.12.0"
  }
 },
 "nbformat": 4,
 "nbformat_minor": 2
}
